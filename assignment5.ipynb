{
 "cells": [
  {
   "cell_type": "markdown",
   "id": "2db90fa1",
   "metadata": {},
   "source": [
    "Q1.who developed python Programming language?"
   ]
  },
  {
   "cell_type": "markdown",
   "id": "06f06d00",
   "metadata": {},
   "source": [
    "Ans: Python was developed by Guido van Rossum, a Dutch programmer, in the late 1980s and early 1990s."
   ]
  },
  {
   "cell_type": "markdown",
   "id": "4db7388d",
   "metadata": {},
   "source": [
    "\n",
    "Q2.which type of programming does python support?"
   ]
  },
  {
   "cell_type": "markdown",
   "id": "c48d3e4e",
   "metadata": {},
   "source": [
    "Python is a versatile programming language that supports multiple programming paradigms, making it suitable for various types of development. The main programming paradigms supported by Python are:\n",
    "\n",
    "Imperative Programming: Python allows you to write code in a sequence of statements that change a program's state. It supports variables, loops, and conditional statements to perform operations.\n",
    "\n",
    "Object-Oriented Programming (OOP): Python supports classes and objects, enabling developers to create and use objects with attributes and methods. Encapsulation, inheritance, and polymorphism are key features of Python's OOP support.\n",
    "\n",
    "Functional Programming: Python supports functional programming concepts such as first-class functions, higher-order functions, lambda expressions, and map/reduce/filter functions.\n",
    "\n",
    "Procedural Programming: Procedural programming involves organizing code into procedures or functions. Python allows you to define and use functions to break down complex tasks into smaller, manageable parts.\n",
    "\n",
    "Event-Driven Programming: Python can be used for event-driven programming, where actions are triggered by events. This is commonly used in GUI applications and networking.\n",
    "\n",
    "Scripting: Python is often used as a scripting language for automating tasks and system administration. Its simple syntax and rich standard library make it suitable for various scripting applications.\n",
    "\n",
    "The support for multiple programming paradigms makes Python highly flexible and adaptable to different programming styles and domains. Developers can choose the most appropriate paradigm based on their specific project requirements.\n",
    "\n",
    "\n",
    "\n",
    "\n",
    "\n"
   ]
  },
  {
   "cell_type": "markdown",
   "id": "c7c01619",
   "metadata": {},
   "source": [
    "Q3.Is python case sensitive when dealing with identifiers?"
   ]
  },
  {
   "cell_type": "markdown",
   "id": "3b9cd094",
   "metadata": {},
   "source": [
    "Yes, Python is case sensitive when dealing with identifiers. In Python, identifiers refer to the names given to variables, functions, classes, modules, etc. Identifiers are used to uniquely identify different elements in the code"
   ]
  },
  {
   "cell_type": "markdown",
   "id": "de9ae543",
   "metadata": {},
   "source": [
    "Q4. What is the correct extension of the Python file?"
   ]
  },
  {
   "cell_type": "markdown",
   "id": "1eade821",
   "metadata": {},
   "source": [
    "Ans:"
   ]
  },
  {
   "cell_type": "markdown",
   "id": "1528bc97",
   "metadata": {},
   "source": [
    "The correct extension for Python files is \".py\". When you save a Python script, you should use a file name that ends with the \".py\" extension. For example:\n",
    "\n",
    "script.py\n",
    "my_program.py\n",
    "utils.py\n"
   ]
  },
  {
   "cell_type": "markdown",
   "id": "546bcfbc",
   "metadata": {},
   "source": [
    "Q5. Is Python code compiled or interpreted?"
   ]
  },
  {
   "cell_type": "markdown",
   "id": "54446825",
   "metadata": {},
   "source": [
    "Ans:"
   ]
  },
  {
   "cell_type": "markdown",
   "id": "9702250c",
   "metadata": {},
   "source": [
    "Python is an interpreted language. When you run a Python script, the Python interpreter reads and executes the code directly, line by line, without the need for a separate compilation step. This means that Python code is not translated into machine code or binary files before execution, as is the case with compiled languages like C or C++.\n",
    "\n"
   ]
  },
  {
   "cell_type": "markdown",
   "id": "f4ffe012",
   "metadata": {},
   "source": [
    "Q6. Name a few blocks of code used to define in Python language?\n"
   ]
  },
  {
   "cell_type": "markdown",
   "id": "9797a43e",
   "metadata": {},
   "source": [
    "Ans:"
   ]
  },
  {
   "cell_type": "markdown",
   "id": "6a57f47f",
   "metadata": {},
   "source": [
    "In Python, blocks of code are defined using indentation. Indentation is crucial for grouping statements together and creating code blocks. Here are a few examples of code blocks used in Python:"
   ]
  },
  {
   "cell_type": "markdown",
   "id": "c59216fd",
   "metadata": {},
   "source": [
    "\n",
    "1.Function definition:"
   ]
  },
  {
   "cell_type": "code",
   "execution_count": null,
   "id": "2f22b001",
   "metadata": {},
   "outputs": [],
   "source": [
    "def my_function(parameter1, parameter2):\n",
    "    # Code block starts here\n",
    "    result = parameter1 + parameter2\n",
    "    return result\n",
    "# Code block ends here (dedentation)"
   ]
  },
  {
   "cell_type": "markdown",
   "id": "4cc349ee",
   "metadata": {},
   "source": [
    "\n",
    "2.conditional Statements(if,elif,else):"
   ]
  },
  {
   "cell_type": "code",
   "execution_count": null,
   "id": "567a689c",
   "metadata": {},
   "outputs": [],
   "source": [
    "x = 10\n",
    "if x > 0:\n",
    "    # Code block for the 'if' statement\n",
    "    print(\"x is positive\")\n",
    "elif x == 0:\n",
    "    # Code block for the 'elif' statement\n",
    "    print(\"x is zero\")\n",
    "else:\n",
    "    # Code block for the 'else' statement\n",
    "    print(\"x is negative\")\n",
    "# Code block ends here (dedentation)\n"
   ]
  },
  {
   "cell_type": "markdown",
   "id": "06036811",
   "metadata": {},
   "source": [
    "\n",
    "3.Loops(for loop and while loop):"
   ]
  },
  {
   "cell_type": "code",
   "execution_count": null,
   "id": "6b02ec0b",
   "metadata": {
    "vscode": {
     "languageId": "plaintext"
    }
   },
   "outputs": [],
   "source": [
    "# For loop\n",
    "for i in range(5):\n",
    "    # Code block inside the 'for' loop\n",
    "    print(i)\n",
    "\n",
    "# While loop\n",
    "count = 0\n",
    "while count < 5:\n",
    "    # Code block inside the 'while' loop\n",
    "    print(count)\n",
    "    count += 1\n",
    "# Code block ends here (dedentation)\n"
   ]
  },
  {
   "cell_type": "markdown",
   "id": "4707a5ca",
   "metadata": {},
   "source": [
    "\n",
    "4.Class Definition(OOP's)"
   ]
  },
  {
   "cell_type": "markdown",
   "id": "4d5b4e97",
   "metadata": {},
   "source": [
    "class MyClass:\n",
    "    def __init__(self, name):\n",
    "        self.name = name\n",
    "\n",
    "    def greet(self):\n",
    "        # Code block inside the class method\n",
    "        print(f\"Hello, {self.name}!\")\n",
    "\n",
    "# Code block ends here (dedentation)\n"
   ]
  },
  {
   "cell_type": "markdown",
   "id": "b2a8bd9d",
   "metadata": {},
   "source": [
    "Q7. State a character used to give single-line comments in Python?\n"
   ]
  },
  {
   "cell_type": "markdown",
   "id": "778ae17d",
   "metadata": {},
   "source": [
    "Ans:"
   ]
  },
  {
   "cell_type": "markdown",
   "id": "f1e0c94f",
   "metadata": {},
   "source": [
    "In Python, the character used to give single-line comments is the hash symbol #. When the Python interpreter encounters the # symbol in a line of code, it treats the rest of the line as a comment and ignores it during execution. Comments are useful for providing explanatory notes, documenting code, and making it more readable for other developers.\n",
    "\n"
   ]
  },
  {
   "cell_type": "markdown",
   "id": "dea24d2b",
   "metadata": {},
   "source": [
    "Q8. Mention functions which can help us to find the version of python that we are currently\n",
    "working on?"
   ]
  },
  {
   "cell_type": "markdown",
   "id": "fb20ad3c",
   "metadata": {},
   "source": [
    "Ans:"
   ]
  },
  {
   "cell_type": "markdown",
   "id": "83bf2a18",
   "metadata": {},
   "source": [
    "The function sys. version can help us to find the version of python that we are currently working on."
   ]
  },
  {
   "cell_type": "markdown",
   "id": "008a0e81",
   "metadata": {},
   "source": [
    "Q9. Python supports the creation of anonymous functions at runtime, using a construct called ..........."
   ]
  },
  {
   "cell_type": "markdown",
   "id": "ffa96a00",
   "metadata": {},
   "source": [
    "Ans:"
   ]
  },
  {
   "cell_type": "markdown",
   "id": "e2d11c2f",
   "metadata": {},
   "source": [
    "Python supports the creation of anonymous functions at runtime, using a construct called lambda"
   ]
  },
  {
   "cell_type": "markdown",
   "id": "ea8e0761",
   "metadata": {},
   "source": [
    "Q10. What does pip stand for python?"
   ]
  },
  {
   "cell_type": "markdown",
   "id": "dc21d9e9",
   "metadata": {},
   "source": [
    " Ans:PIP stands for Preferred Installer Program, helps you to install libraries and dependencies, that doesn't come with the standard package of Python."
   ]
  },
  {
   "cell_type": "markdown",
   "id": "cb9e2f86",
   "metadata": {},
   "source": [
    "Q11. Mention a few built-in functions in python?\n"
   ]
  },
  {
   "cell_type": "markdown",
   "id": "050402f4",
   "metadata": {},
   "source": [
    "Ans:"
   ]
  },
  {
   "cell_type": "markdown",
   "id": "7c75524d",
   "metadata": {},
   "source": [
    "Now, let's discuss each of the above functions one-by-one with some examples:\n",
    "print( ) function. The print() function prints the specified message to the screen or another standard output device. ...\n",
    "\n",
    "type( ) function. \n",
    "\n",
    "input( ) function. \n",
    "\n",
    "abs( ) function. \n",
    "\n",
    "pow( ) function. \n",
    "\n",
    "dir( ) function. \n",
    "\n",
    "sorted( ) function. \n",
    "\n",
    "max( ) function.\n"
   ]
  },
  {
   "cell_type": "markdown",
   "id": "14196b87",
   "metadata": {},
   "source": [
    "Q12. What is the maximum possible length of an identifier in Python?\n"
   ]
  },
  {
   "cell_type": "markdown",
   "id": "8ccaa39f",
   "metadata": {},
   "source": [
    "Answer: An identifier can have a maximum length of 79 characters in Python."
   ]
  },
  {
   "cell_type": "markdown",
   "id": "50ee9f5a",
   "metadata": {},
   "source": [
    "Q13. What are the benefits of using Python?\n"
   ]
  },
  {
   "cell_type": "markdown",
   "id": "974c25e5",
   "metadata": {},
   "source": [
    "Ans:"
   ]
  },
  {
   "cell_type": "markdown",
   "id": "ca2a3b56",
   "metadata": {},
   "source": [
    "Benifits of python:\n",
    "\n",
    "1.Easy to Code. Python is a very high-level programming language, yet it is effortless to learn.\n",
    " \n",
    "2.Easy to Read. Python code looks like simple English words.\n",
    "\n",
    "3.Free and Open-Source.\n",
    "\n",
    "4.Robust Standard Library. \n",
    "\n",
    "5.Interpreted. \n",
    "\n",
    "6.Portable. \n",
    "\n",
    "7.Object-Oriented and Procedure-Oriented.\n",
    "\n",
    "8.Extensible.\n",
    "\n"
   ]
  },
  {
   "cell_type": "markdown",
   "id": "736942fd",
   "metadata": {},
   "source": [
    "Q14. How is memory managed in Python?\n"
   ]
  },
  {
   "cell_type": "markdown",
   "id": "5ac2dd73",
   "metadata": {},
   "source": [
    "Ans:"
   ]
  },
  {
   "cell_type": "markdown",
   "id": "489732e4",
   "metadata": {},
   "source": [
    "Memory management in Python involves a private heap containing all Python objects and data structures. The management of this private heap is ensured internally by the Python memory manager."
   ]
  },
  {
   "cell_type": "markdown",
   "id": "2e2da607",
   "metadata": {},
   "source": [
    "Q15. How to install Python on Windows and set path variables?"
   ]
  },
  {
   "cell_type": "markdown",
   "id": "8f36a1cf",
   "metadata": {},
   "source": [
    "Ans:"
   ]
  },
  {
   "cell_type": "markdown",
   "id": "2bac364f",
   "metadata": {},
   "source": [
    "Install python from this link https://www.python.org/downloads/\n",
    "After this, install it on your PC. Look for the location where PYTHON has been installed on your PC using tge following command on your command prompt: cmd python.\n",
    "Then go to advanced system settings and add new variable and name it as PYTHON_NAME and paste the copied path.\n",
    "Then look for the path variable, select it's value and select edit\n",
    "Add a semicolon towards the end of the value if it's not present and then type %PYTHON_HOME%"
   ]
  },
  {
   "cell_type": "markdown",
   "id": "41212e16",
   "metadata": {},
   "source": [
    "\n",
    "Q16. Is indentation required in\n",
    "python?"
   ]
  },
  {
   "cell_type": "markdown",
   "id": "fa7d034d",
   "metadata": {},
   "source": [
    "Ans:"
   ]
  },
  {
   "cell_type": "markdown",
   "id": "86d1e57a",
   "metadata": {},
   "source": [
    "indentation is mandatory in python to define the blocks of statements. It is preferred to use whitespaces instead of tabs to indent in python. Python uses four spaces as default indentation spaces."
   ]
  }
 ],
 "metadata": {
  "kernelspec": {
   "display_name": "Python 3 (ipykernel)",
   "language": "python",
   "name": "python3"
  },
  "language_info": {
   "codemirror_mode": {
    "name": "ipython",
    "version": 3
   },
   "file_extension": ".py",
   "mimetype": "text/x-python",
   "name": "python",
   "nbconvert_exporter": "python",
   "pygments_lexer": "ipython3",
   "version": "3.10.8"
  }
 },
 "nbformat": 4,
 "nbformat_minor": 5
}
