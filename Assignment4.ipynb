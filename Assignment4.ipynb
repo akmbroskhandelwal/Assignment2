{
 "cells": [
  {
   "cell_type": "markdown",
   "id": "e9ca5343",
   "metadata": {},
   "source": [
    "Q1.Explain Class and Object with respect to Object-Oriented Programming. Give a suitable example.\n"
   ]
  },
  {
   "cell_type": "markdown",
   "id": "5bca4fcd",
   "metadata": {},
   "source": [
    "In object-oriented programming (OOP), a class is a blueprint or a template for creating objects. It defines the structure and behavior of objects of a particular type. A class encapsulates data (attributes) and methods (functions) that operate on that data. Think of a class as a blueprint for a specific entity, describing its properties and actions.\n",
    "\n",
    "An object, on the other hand, is an instance of a class. It is a concrete representation of the class and can hold unique data and state. When you create an object, it takes on the characteristics defined by the class, and you can interact with it using the methods defined in the class.\n",
    "\n"
   ]
  },
  {
   "cell_type": "code",
   "execution_count": 4,
   "id": "34354edd-1068-4177-bc8c-4012ee226468",
   "metadata": {},
   "outputs": [
    {
     "name": "stdout",
     "output_type": "stream",
     "text": [
      "canenine\n",
      "woof\n",
      "I fetched the ball\n"
     ]
    }
   ],
   "source": [
    "#class\n",
    "class dog:\n",
    "    species = 'canenine'\n",
    "    \n",
    "    def bark(self):\n",
    "        return \"woof\"\n",
    "    def fetch(self,item):\n",
    "        return f\"I fetched the {item}\"\n",
    "#object    \n",
    "    \n",
    "dog1 = dog()\n",
    "dog2 = dog()\n",
    "\n",
    "print(dog1.species)\n",
    "print(dog2.bark())\n",
    "print(dog1.fetch(\"ball\"))"
   ]
  },
  {
   "cell_type": "markdown",
   "id": "beabca4b",
   "metadata": {},
   "source": [
    "Q2. Name the four pillars of OOPs."
   ]
  },
  {
   "cell_type": "markdown",
   "id": "e32a351e-7c13-4747-ac88-4afecb2d7ba2",
   "metadata": {},
   "source": [
    " Four pillars of oops\n",
    " \n",
    " 1.Polymorphism\n",
    " \n",
    " 2.Abstraction\n",
    " \n",
    " 3.Inheritance\n",
    " \n",
    " 4.Encapsulation"
   ]
  },
  {
   "cell_type": "markdown",
   "id": "e6cf9174",
   "metadata": {},
   "source": [
    "Q3. Explain why the __init__() function is used. Give a suitable example."
   ]
  },
  {
   "cell_type": "markdown",
   "id": "6e598b72",
   "metadata": {},
   "source": [
    "The __init__() function is a special method in Python classes that is automatically called when you create an object of that class. It stands for \"initialize\" and is commonly known as the constructor method. Its primary purpose is to initialize the attributes (data members) of the object.\n",
    "\n",
    "Here are the main reasons why the '__init__()' function is used:\n",
    "\n",
    "1.Attribute initialization:\n",
    "\n",
    "2.Instance-specific data:\n",
    "\n",
    "3.Code reusability:\n",
    "\n",
    "4.Automatic invocation:\n",
    "\n",
    "5.Default values:"
   ]
  },
  {
   "cell_type": "code",
   "execution_count": 8,
   "id": "d8c6ff32-1e14-4d2a-b410-2f6eacf9aecc",
   "metadata": {},
   "outputs": [
    {
     "name": "stdout",
     "output_type": "stream",
     "text": [
      "hi, I'm johni,21 years old,and I work as a Civil Engineer.\n",
      "hi, I'm abhishek,20 years old,and I work as a Software Engineer.\n"
     ]
    }
   ],
   "source": [
    "class person:\n",
    "    # '--init--' function is used.\n",
    "    def __init__(self,name,age,occupation):\n",
    "    \n",
    "        self.name = name\n",
    "        self.age = age\n",
    "        self.occupation = occupation\n",
    "        \n",
    "    def introduce(self):\n",
    "        print(f\"hi, I'm{self.name},{self.age} years old,and I work as a{self.occupation}.\")\n",
    "\n",
    "        \n",
    "person1 = person(\" johni\" ,21, \" Civil Engineer\")\n",
    "person2 = person(\" abhishek\" ,20, \" Software Engineer\")\n",
    "\n",
    "person1.introduce()\n",
    "person2.introduce()"
   ]
  },
  {
   "cell_type": "markdown",
   "id": "23efc091",
   "metadata": {},
   "source": [
    "Q4. Why self is used in OOPs?"
   ]
  },
  {
   "cell_type": "markdown",
   "id": "dd731036",
   "metadata": {},
   "source": [
    "\n",
    "In object-oriented programming (OOP), self is a reference to the instance of the class itself. It is a convention used in many object-oriented languages, including Python. The use of self is essential for several reasons:\n",
    "\n",
    "Accessing Instance Variables: When you create an object from a class (an instance), self allows you to access the object's attributes (instance variables) within the class methods. Without self, the methods would not know which specific instance's attributes to refer to.\n",
    "\n",
    "Calling Instance Methods: self is also necessary to call other methods within the class. It helps in distinguishing between instance methods (methods bound to an instance) and static methods (methods that do not require access to the instance's attributes).\n",
    "\n",
    "Creating and Modifying Attributes: In Python, instance variables are not declared explicitly. They are created when they are first assigned a value within the __init__() method or any other method. Using self allows you to create, modify, and access these attributes for a specific instance.\n",
    "\n",
    "Identifying the Current Instance: In Python, you can have multiple instances of the same class, each with its own data. When a method is called on an instance, self implicitly passes the current instance as the first argument, allowing the method to operate on the correct instance's data.\n",
    "\n",
    "Avoiding Conflicts: By using self, you avoid conflicts that may arise when multiple instances of the same class are created and operated upon. Each instance keeps its data separate from other instances.\n"
   ]
  },
  {
   "cell_type": "markdown",
   "id": "ccf6c0f0",
   "metadata": {},
   "source": [
    "Q5. What is inheritance? Give an example for each type of inheritance."
   ]
  },
  {
   "cell_type": "markdown",
   "id": "b4a8a06f",
   "metadata": {},
   "source": [
    "Inheritance in python programming is the concept of deriving a new class from an existing class. Using the concept of inheritance we can inherit the properties of the existing class to our new class. The new derived class is called the child class and the existing class is called the parent class."
   ]
  },
  {
   "cell_type": "markdown",
   "id": "d2b0dbb0",
   "metadata": {},
   "source": [
    "Types of inheritance: There are five types of inheritance in python programming:\n",
    "\n",
    "1). Single inheritance\n",
    "\n",
    "2). Multiple inheritances\n",
    "\n",
    "3). Multilevel inheritance\n",
    "\n",
    "4). Hierarchical inheritance\n",
    "\n",
    "5). Hybrid inheritance"
   ]
  },
  {
   "cell_type": "markdown",
   "id": "883965ec",
   "metadata": {},
   "source": [
    "\n",
    "1.single inheritance:"
   ]
  },
  {
   "cell_type": "code",
   "execution_count": null,
   "id": "df55d6df",
   "metadata": {},
   "outputs": [],
   "source": [
    "class Animal:\n",
    "    def __init__(self, species):\n",
    "        self.species = species\n",
    "\n",
    "    def make_sound(self):\n",
    "        pass\n",
    "\n",
    "class Dog(Animal):\n",
    "    def __init__(self, breed):\n",
    "        super().__init__(\"Dog\")\n",
    "        self.breed = breed\n",
    "\n",
    "    def make_sound(self):\n",
    "        return \"Woof!\"\n",
    "\n",
    "dog1 = Dog(\"Labrador\")\n",
    "print(dog1.species)    # Output: Dog\n",
    "print(dog1.breed)      # Output: Labrador\n",
    "print(dog1.make_sound())  # Output: Woof!\n"
   ]
  },
  {
   "cell_type": "markdown",
   "id": "b9b3e86e",
   "metadata": {},
   "source": [
    "\n",
    "2.multiple inheritance:"
   ]
  },
  {
   "cell_type": "code",
   "execution_count": null,
   "id": "80e25dbf",
   "metadata": {},
   "outputs": [],
   "source": [
    "class Bird:\n",
    "    def __init__(self, species):\n",
    "        self.species = species\n",
    "\n",
    "    def make_sound(self):\n",
    "        pass\n",
    "\n",
    "class Flyer:\n",
    "    def fly(self):\n",
    "        return \"I can fly!\"\n",
    "\n",
    "class Parrot(Bird, Flyer):\n",
    "    def __init__(self, species, color):\n",
    "        super().__init__(species)\n",
    "        self.color = color\n",
    "\n",
    "    def make_sound(self):\n",
    "        return \"Squawk!\"\n",
    "\n",
    "parrot1 = Parrot(\"Parrot\", \"Green\")\n",
    "print(parrot1.species)       # Output: Parrot\n",
    "print(parrot1.color)         # Output: Green\n",
    "print(parrot1.make_sound())  # Output: Squawk!\n",
    "print(parrot1.fly())         # Output: I can fly!\n"
   ]
  },
  {
   "cell_type": "markdown",
   "id": "21b038af",
   "metadata": {},
   "source": [
    "3.Multilevel Inheritance: In multilevel inheritance, a derived class inherits from another derived class.\n"
   ]
  },
  {
   "cell_type": "code",
   "execution_count": null,
   "id": "fce4ad0c",
   "metadata": {},
   "outputs": [],
   "source": [
    "class Animal:\n",
    "    def __init__(self, species):\n",
    "        self.species = species\n",
    "\n",
    "    def make_sound(self):\n",
    "        pass\n",
    "\n",
    "class Dog(Animal):\n",
    "    def __init__(self, breed):\n",
    "        super().__init__(\"Dog\")\n",
    "        self.breed = breed\n",
    "\n",
    "    def make_sound(self):\n",
    "        return \"Woof!\"\n",
    "\n",
    "class GuardDog(Dog):\n",
    "    def __init__(self, breed, skill):\n",
    "        super().__init__(breed)\n",
    "        self.skill = skill\n",
    "\n",
    "    def make_sound(self):\n",
    "        return \"Bark!\"\n",
    "\n",
    "guard_dog1 = GuardDog(\"German Shepherd\", \"Guarding\")\n",
    "print(guard_dog1.species)     # Output: Dog\n",
    "print(guard_dog1.breed)       # Output: German Shepherd\n",
    "print(guard_dog1.skill)       # Output: Guarding\n",
    "print(guard_dog1.make_sound())  # Output: Bark!\n"
   ]
  },
  {
   "cell_type": "markdown",
   "id": "56854570",
   "metadata": {},
   "source": [
    "4.Hierarchial inheritance:"
   ]
  },
  {
   "cell_type": "code",
   "execution_count": null,
   "id": "9b84af17",
   "metadata": {},
   "outputs": [],
   "source": [
    "#example\n",
    "\n",
    "class Brands:                      #parent_class\n",
    "    brand_name_1 = \"Amazon\"\n",
    "    brand_name_2 = \"Ebay\"\n",
    "    brand_name_3 = \"OLX\"\n",
    "    \n",
    "class Products(Brands):            #child_class\n",
    "    prod_1 = \"Online Ecommerce Store\"\n",
    "    prod_2 = \"Online Store\"\n",
    "    prod_3 = \"Online Buy Sell Store\"\n",
    "\n",
    "class Popularity(Brands):        #grand_child_class\n",
    "    prod_1_popularity = 100\n",
    "    prod_2_popularity = 70\n",
    "    prod_3_popularity = 60\n",
    "\n",
    "class Value(Brands):\n",
    "    prod_1_value = \"Excellent Value\"\n",
    "    prod_2_value = \"Better Value\"\n",
    "    prod_3_value = \"Good Value\"\n",
    "    \n",
    "obj_1 = Products()          #Object_creation\n",
    "obj_2 = Popularity()\n",
    "obj_3 = Value()\n",
    "print(obj_1.brand_name_1+\" is an \"+obj_1.prod_1)\n",
    "print(obj_1.brand_name_1+\" is an \"+obj_1.prod_1)\n",
    "print(obj_1.brand_name_1+\" is an \"+obj_1.prod_1)"
   ]
  },
  {
   "cell_type": "markdown",
   "id": "65ef68fd",
   "metadata": {},
   "source": [
    "\n",
    "5.Hybrid Inheritance: Hybrid inheritance satisfies more than one form of inheritance ie. It may be consists of all types of inheritance that we have done above. It is not wrong if we say Hybrid Inheritance is the combinations of simple, multiple, multilevel and hierarchical inheritance. This type of inheritance is very helpful if we want to use concepts of inheritance without any limitations according to our requirements"
   ]
  },
  {
   "cell_type": "code",
   "execution_count": null,
   "id": "37abf208",
   "metadata": {},
   "outputs": [],
   "source": [
    "#Example_Hybrid_inheritance\n",
    "class PC:\n",
    "def fun1(self):\n",
    "print(“This is PC class”)\n",
    "\n",
    "class Laptop(PC):\n",
    "def fun2(self):\n",
    "print(“This is Laptop class inheriting PC class”)\n",
    "\n",
    "class Mouse(Laptop):\n",
    "def fun3(self):\n",
    "print(“This is Mouse class inheriting Laptop class”)\n",
    "\n",
    "class Student(Mouse, Laptop):\n",
    "def fun4(self):\n",
    "print(“This is Student class inheriting PC and Laptop”)\n",
    "\n",
    "# Driver’s code\n",
    "obj = Student()\n",
    "obj1 = Mouse()\n",
    "obj.fun4()\n",
    "obj.fun3()\n"
   ]
  }
 ],
 "metadata": {
  "kernelspec": {
   "display_name": "Python 3 (ipykernel)",
   "language": "python",
   "name": "python3"
  },
  "language_info": {
   "codemirror_mode": {
    "name": "ipython",
    "version": 3
   },
   "file_extension": ".py",
   "mimetype": "text/x-python",
   "name": "python",
   "nbconvert_exporter": "python",
   "pygments_lexer": "ipython3",
   "version": "3.10.8"
  }
 },
 "nbformat": 4,
 "nbformat_minor": 5
}
