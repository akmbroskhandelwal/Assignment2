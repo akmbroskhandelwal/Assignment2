{
 "cells": [
  {
   "cell_type": "markdown",
   "id": "da48073c-fc3d-409b-8967-1bf1e19db3a8",
   "metadata": {},
   "source": [
    "Q1.Which keyword is used to create a function? Create a function to return a list of odd numbers in the range of 1 to 25."
   ]
  },
  {
   "cell_type": "markdown",
   "id": "cba63c12-6b34-4e62-8249-85cc9b2393e8",
   "metadata": {},
   "source": [
    "def keyword is used to create a function."
   ]
  },
  {
   "cell_type": "code",
   "execution_count": null,
   "id": "08b8c551-b8b0-4426-a8a3-8c0827fb2cd1",
   "metadata": {},
   "outputs": [],
   "source": [
    "l = list(range(1,26,))\n"
   ]
  },
  {
   "cell_type": "code",
   "execution_count": null,
   "id": "bd97bc75-dea5-425f-b055-60ac5ed915ca",
   "metadata": {},
   "outputs": [],
   "source": [
    "def test1(l):\n",
    "    l1 = []\n",
    "    for i in  l :\n",
    "        if i % 2 != 0 :\n",
    "            l1.append(i)\n",
    "    return l1      "
   ]
  },
  {
   "cell_type": "code",
   "execution_count": null,
   "id": "21540812-2f1d-4f34-a8f2-9ca72ebf3672",
   "metadata": {},
   "outputs": [
    {
     "data": {
      "text/plain": [
       "[1, 3, 5, 7, 9, 11, 13, 15, 17, 19, 21, 23, 25]"
      ]
     },
     "execution_count": 6,
     "metadata": {},
     "output_type": "execute_result"
    }
   ],
   "source": [
    "test1(l)"
   ]
  },
  {
   "cell_type": "markdown",
   "id": "21be0f2d-aed7-4537-8ac9-f5a529b3246e",
   "metadata": {},
   "source": [
    "Q2.Why *args and **kwargs used in some  function. create a function each for *args and **kwars to demonstrate their use."
   ]
  },
  {
   "cell_type": "markdown",
   "id": "5ce86a16-8bfb-48b3-8b96-73392bfb48cf",
   "metadata": {},
   "source": [
    " * args : *args receives argument as a tuple.\n",
    "\n",
    " **kwargs : **kwargs receives argument as  a dictionery."
   ]
  },
  {
   "cell_type": "code",
   "execution_count": null,
   "id": "5fab1f25-9b82-4292-94a6-c987e93f530c",
   "metadata": {},
   "outputs": [],
   "source": [
    "# *args \n",
    "def test1(*args , a , b):\n",
    "    return *args , a , b\n",
    "    "
   ]
  },
  {
   "cell_type": "code",
   "execution_count": null,
   "id": "204b6272-2e80-484b-bbd0-118fa265ceac",
   "metadata": {},
   "outputs": [
    {
     "data": {
      "text/plain": [
       "(1, 2, 3, 4, 'abhishek', [1, 2, 3, 3], 3, 4)"
      ]
     },
     "execution_count": 14,
     "metadata": {},
     "output_type": "execute_result"
    }
   ],
   "source": [
    "# give argument in test1 then generate output\n",
    "test1(1,2,3,4,\"abhishek\",[1,2,3,3],a = 3, b = 4)"
   ]
  },
  {
   "cell_type": "code",
   "execution_count": null,
   "id": "a25a159f-ee1f-4853-820c-86768f61ad7e",
   "metadata": {},
   "outputs": [
    {
     "data": {
      "text/plain": [
       "tuple"
      ]
     },
     "execution_count": 25,
     "metadata": {},
     "output_type": "execute_result"
    }
   ],
   "source": [
    "# * args receives argument as a tuple\n",
    "type(test1(a = 3,b = 4))"
   ]
  },
  {
   "cell_type": "code",
   "execution_count": null,
   "id": "74cd77bc-8d51-448d-a482-713f1de127a1",
   "metadata": {},
   "outputs": [],
   "source": [
    "#change name of args \n",
    "def test2(*abhi):\n",
    "    return abhi"
   ]
  },
  {
   "cell_type": "code",
   "execution_count": null,
   "id": "d1b5b724-c1f8-41d9-a798-6b86d989561a",
   "metadata": {},
   "outputs": [
    {
     "data": {
      "text/plain": [
       "(1, 2)"
      ]
     },
     "execution_count": 29,
     "metadata": {},
     "output_type": "execute_result"
    }
   ],
   "source": [
    "test2(1,2)"
   ]
  },
  {
   "cell_type": "code",
   "execution_count": null,
   "id": "9845d42e-3109-42f4-ba38-99d437f71beb",
   "metadata": {},
   "outputs": [],
   "source": [
    "# **kwargs\n",
    "def test3(**kwargs):\n",
    "    return kwargs"
   ]
  },
  {
   "cell_type": "code",
   "execution_count": null,
   "id": "47b4733c-767e-4343-9397-fd051bfaf642",
   "metadata": {},
   "outputs": [
    {
     "data": {
      "text/plain": [
       "{}"
      ]
     },
     "execution_count": 31,
     "metadata": {},
     "output_type": "execute_result"
    }
   ],
   "source": [
    "# no give parameters in test3() then generate a empty dictioneries\n",
    "test3()"
   ]
  },
  {
   "cell_type": "code",
   "execution_count": null,
   "id": "edb59b22-1c51-4c63-8c8f-488a8462e1e9",
   "metadata": {},
   "outputs": [
    {
     "data": {
      "text/plain": [
       "dict"
      ]
     },
     "execution_count": 32,
     "metadata": {},
     "output_type": "execute_result"
    }
   ],
   "source": [
    "# check which type of output\n",
    "type(test3())"
   ]
  },
  {
   "cell_type": "code",
   "execution_count": null,
   "id": "c7ab5afe-e215-4e67-a525-51fb2536e267",
   "metadata": {},
   "outputs": [
    {
     "data": {
      "text/plain": [
       "{'a': [1, 2, 3], 'b': 'abhishek', 'c': 23.45}"
      ]
     },
     "execution_count": 33,
     "metadata": {},
     "output_type": "execute_result"
    }
   ],
   "source": [
    "# give argument in test3 then generate output\n",
    "test3( a = [1,2,3] , b = \"abhishek\" , c = 23.45)"
   ]
  },
  {
   "cell_type": "markdown",
   "id": "f59deb67-01e3-4479-ab2e-580d0b8ba5ec",
   "metadata": {},
   "source": [
    "Q3.what is iterator in python.name the method to initialise the iterator object and the method used for iteration.use these method to print the first five element of the given list [2,4,6,8,10,12,14,16,18,20]."
   ]
  },
  {
   "cell_type": "markdown",
   "id": "aca09487-5267-4192-b49a-d0beb9195907",
   "metadata": {},
   "source": [
    "ans"
   ]
  },
  {
   "cell_type": "markdown",
   "id": "8b906a73-7848-4d95-a2a1-3cf58d2bc5a9",
   "metadata": {},
   "source": [
    "Iterator : An iterator is an object that allow you to iterate over  collection of data, such as tuple ,list,dictioneries and sets"
   ]
  },
  {
   "cell_type": "code",
   "execution_count": null,
   "id": "371f78e7-d3e1-4534-9c2a-b4b5eed5cbd3",
   "metadata": {},
   "outputs": [],
   "source": [
    "a = \"abhishek\""
   ]
  },
  {
   "cell_type": "code",
   "execution_count": null,
   "id": "f510c081-d5ff-4a05-91a0-9a5f99a37eca",
   "metadata": {},
   "outputs": [
    {
     "data": {
      "text/plain": [
       "'abhishek'"
      ]
     },
     "execution_count": 2,
     "metadata": {},
     "output_type": "execute_result"
    }
   ],
   "source": [
    "a"
   ]
  },
  {
   "cell_type": "code",
   "execution_count": null,
   "id": "d4a7d5ca-a3a0-48b0-911f-b1e7b9da5836",
   "metadata": {},
   "outputs": [],
   "source": [
    "a1 = iter(a)"
   ]
  },
  {
   "cell_type": "code",
   "execution_count": null,
   "id": "664729ec-514c-4161-a429-9f03246a87f3",
   "metadata": {},
   "outputs": [
    {
     "data": {
      "text/plain": [
       "str_iterator"
      ]
     },
     "execution_count": 4,
     "metadata": {},
     "output_type": "execute_result"
    }
   ],
   "source": [
    "type(a1)"
   ]
  },
  {
   "cell_type": "code",
   "execution_count": null,
   "id": "7e99106d-e8f3-4edc-80b2-84448759e073",
   "metadata": {},
   "outputs": [
    {
     "data": {
      "text/plain": [
       "'a'"
      ]
     },
     "execution_count": 5,
     "metadata": {},
     "output_type": "execute_result"
    }
   ],
   "source": [
    "# next function use in give one value at a time \n",
    "next(a1)"
   ]
  },
  {
   "cell_type": "code",
   "execution_count": null,
   "id": "b2c74ac0-6e8a-4ee1-bb35-38663fb2bf8d",
   "metadata": {},
   "outputs": [
    {
     "data": {
      "text/plain": [
       "'b'"
      ]
     },
     "execution_count": 6,
     "metadata": {},
     "output_type": "execute_result"
    }
   ],
   "source": [
    "next(a1)"
   ]
  },
  {
   "cell_type": "code",
   "execution_count": null,
   "id": "09e8e09f-c26f-4165-8747-b82a2b879e36",
   "metadata": {},
   "outputs": [
    {
     "name": "stdout",
     "output_type": "stream",
     "text": [
      "2\n",
      "4\n",
      "6\n",
      "8\n",
      "10\n"
     ]
    }
   ],
   "source": [
    "l = [2,4,6,8,10,12,14,16,18,20]\n",
    " \n",
    "    \n",
    "s1 = iter(l)\n",
    "\n",
    "print(next(s1))\n",
    "print(next(s1))\n",
    "print(next(s1))\n",
    "print(next(s1))\n",
    "print(next(s1))\n",
    "\n",
    "\n",
    "\n"
   ]
  },
  {
   "cell_type": "markdown",
   "id": "04dc22c5",
   "metadata": {},
   "source": [
    "Q4. What is a generator function in python? Why yield keyword is used? Give an example of a generator\n",
    "function."
   ]
  },
  {
   "cell_type": "markdown",
   "id": "a412fb1d",
   "metadata": {},
   "source": [
    "ans:\n",
    "In Python, a generator function is a special type of function that allows you to generate a sequence of values using the yield keyword. Unlike regular functions that use the return statement, generator functions use yield to produce a series of values one at a time, without storing them all in memory at once. This lazy evaluation makes generators memory-efficient and allows them to handle large data sets or infinite sequences.\n",
    "\n",
    "When a generator function is called, it doesn't execute the code immediately; instead, it returns a generator object that can be iterated over. Each time you iterate over the generator (e.g., using a loop or the next() function), the function's code is executed until it reaches the yield statement. The value after the yield is returned as the next item in the sequence, and the function's state is frozen until the next iteration.\n",
    "\n",
    "The main advantages of using generators are:\n",
    "\n",
    "Memory efficiency: Generators produce values on-the-fly, so they don't need to store all elements in memory, making them suitable for large or infinite sequences.\n",
    "Lazy evaluation: Values are generated as needed, which improves performance when you don't need to process the entire sequence at once.\n",
    "Simplified code: Generators allow you to write more concise and readable code, especially for iterating over data."
   ]
  },
  {
   "cell_type": "code",
   "execution_count": null,
   "id": "4fecfb78",
   "metadata": {},
   "outputs": [],
   "source": [
    "def square_generator(limit):\n",
    "    num = 0\n",
    "    while num < limit:\n",
    "        yield num**2\n",
    "        num += 1\n",
    "\n",
    "# Using the generator to print the first 10 squares\n",
    "square_gen = square_generator(10)\n",
    "for square in square_gen:\n",
    "    print(square)"
   ]
  },
  {
   "cell_type": "markdown",
   "id": "2ed70811-0670-4887-b602-8dcbfc6f76d7",
   "metadata": {},
   "source": [
    "\n",
    " ans   \n",
    "    "
   ]
  },
  {
   "cell_type": "code",
   "execution_count": null,
   "id": "cb209cac-7117-46d3-b790-cf4d313ad878",
   "metadata": {},
   "outputs": [
    {
     "name": "stdout",
     "output_type": "stream",
     "text": [
      "2\n",
      "3\n"
     ]
    }
   ],
   "source": [
    "def is_prime(number):\n",
    "    if number <= 1:\n",
    "        return False\n",
    "    for i in range(2,int(number**0.5)+1) :\n",
    "        if number % i ==0:\n",
    "            return False\n",
    "    \n",
    "    return True\n",
    "def primegenerator(limit = 1000):\n",
    "    number = 2\n",
    "    while number < limit :\n",
    "        if is_prime(number):\n",
    "            yield number\n",
    "            number += 1\n",
    "            \n",
    "generator = primegenerator()\n",
    "for _ in range(20):\n",
    "    print(next(generator))\n",
    "    "
   ]
  },
  {
   "cell_type": "markdown",
   "id": "714f25b4",
   "metadata": {},
   "source": [
    "Q6. Write a python program to print the first 10 Fibonacci numbers using a while loop."
   ]
  },
  {
   "cell_type": "code",
   "execution_count": 6,
   "id": "bf3ac8ab-7f85-4b0a-ba3b-668145eb7f08",
   "metadata": {},
   "outputs": [
    {
     "name": "stdout",
     "output_type": "stream",
     "text": [
      "0\n",
      "1\n",
      "1\n",
      "2\n",
      "3\n",
      "5\n",
      "8\n",
      "13\n",
      "21\n",
      "34\n"
     ]
    }
   ],
   "source": [
    "def test_fib1():\n",
    "    a,b = 0,1\n",
    "    while True :\n",
    "        yield a\n",
    "        a,b = b,a+b\n",
    "        \n",
    "fib = test_fib1()\n",
    "for i in range(10):\n",
    "    print(next(fib))"
   ]
  },
  {
   "cell_type": "markdown",
   "id": "84ab7e8b",
   "metadata": {},
   "source": [
    "Q7.Write a List Comprehension to iterate through the given string: ‘pwskills’.\n",
    "Expected output: ['p', 'w', 's', 'k', 'i', 'l', 'l', 's']"
   ]
  },
  {
   "cell_type": "code",
   "execution_count": 8,
   "id": "314b8d7f-07b9-4da2-b452-2898cbcd26a9",
   "metadata": {},
   "outputs": [
    {
     "data": {
      "text/plain": [
       "['p', 'w', 's', 'k', 'i', 'l', 'l', 's']"
      ]
     },
     "execution_count": 8,
     "metadata": {},
     "output_type": "execute_result"
    }
   ],
   "source": [
    "\n",
    "l = \"pwskills\"\n",
    "[i for i in l ]\n"
   ]
  },
  {
   "cell_type": "markdown",
   "id": "4bb9e5ac",
   "metadata": {},
   "source": [
    "Q8. Write a python program to check whether a given number is Palindrome or not using a while loop."
   ]
  },
  {
   "cell_type": "code",
   "execution_count": 21,
   "id": "271063e1-d44d-4076-85c3-0fefcf157f8e",
   "metadata": {},
   "outputs": [
    {
     "name": "stdout",
     "output_type": "stream",
     "text": [
      "is a palindrome\n"
     ]
    }
   ],
   "source": [
    "num = 1221\n",
    "reverse = int(str(num)[::-1])\n",
    "if num == reverse:\n",
    "    print(\"is a palindrome\")\n",
    "else:\n",
    "          print(\"is not a palindrome\")\n",
    "\n",
    "\n"
   ]
  },
  {
   "cell_type": "markdown",
   "id": "a7386641",
   "metadata": {},
   "source": [
    "Q9. Write a code to print odd numbers from 1 to 100 using list comprehension."
   ]
  },
  {
   "cell_type": "code",
   "execution_count": 27,
   "id": "b6730ed9-e839-4c95-9d3d-b25e2d5bf296",
   "metadata": {},
   "outputs": [
    {
     "data": {
      "text/plain": [
       "[1,\n",
       " 3,\n",
       " 5,\n",
       " 7,\n",
       " 9,\n",
       " 11,\n",
       " 13,\n",
       " 15,\n",
       " 17,\n",
       " 19,\n",
       " 21,\n",
       " 23,\n",
       " 25,\n",
       " 27,\n",
       " 29,\n",
       " 31,\n",
       " 33,\n",
       " 35,\n",
       " 37,\n",
       " 39,\n",
       " 41,\n",
       " 43,\n",
       " 45,\n",
       " 47,\n",
       " 49,\n",
       " 51,\n",
       " 53,\n",
       " 55,\n",
       " 57,\n",
       " 59,\n",
       " 61,\n",
       " 63,\n",
       " 65,\n",
       " 67,\n",
       " 69,\n",
       " 71,\n",
       " 73,\n",
       " 75,\n",
       " 77,\n",
       " 79,\n",
       " 81,\n",
       " 83,\n",
       " 85,\n",
       " 87,\n",
       " 89,\n",
       " 91,\n",
       " 93,\n",
       " 95,\n",
       " 97,\n",
       " 99]"
      ]
     },
     "execution_count": 27,
     "metadata": {},
     "output_type": "execute_result"
    }
   ],
   "source": [
    "[i for i in range(1,100) if i % 2 != 0 ]"
   ]
  },
  {
   "cell_type": "code",
   "execution_count": null,
   "id": "2148cccb-8636-4b7f-9c45-755427194445",
   "metadata": {},
   "outputs": [],
   "source": []
  },
  {
   "cell_type": "code",
   "execution_count": null,
   "id": "746d3aa0-902f-4168-a22a-b40adefc6ca0",
   "metadata": {},
   "outputs": [],
   "source": []
  },
  {
   "cell_type": "code",
   "execution_count": null,
   "id": "7c712d15-1f49-43ed-8b16-c76c37317673",
   "metadata": {},
   "outputs": [],
   "source": []
  },
  {
   "cell_type": "code",
   "execution_count": null,
   "id": "991b3e9f-e03b-4243-93ec-9f5a62af2f9b",
   "metadata": {},
   "outputs": [],
   "source": []
  },
  {
   "cell_type": "code",
   "execution_count": null,
   "id": "5c234b52-a0f7-4b6c-96bf-a05f0f241047",
   "metadata": {},
   "outputs": [],
   "source": []
  },
  {
   "cell_type": "code",
   "execution_count": null,
   "id": "fcd3c772-96d8-4c49-b009-42ffb82fb577",
   "metadata": {},
   "outputs": [],
   "source": []
  },
  {
   "cell_type": "code",
   "execution_count": null,
   "id": "c632423d-c49a-44f5-b65c-ce8b57b1a290",
   "metadata": {},
   "outputs": [],
   "source": []
  },
  {
   "cell_type": "code",
   "execution_count": null,
   "id": "abdc8f0b-ad99-40d5-9dbc-c91b611fda90",
   "metadata": {},
   "outputs": [],
   "source": []
  },
  {
   "cell_type": "code",
   "execution_count": null,
   "id": "21b4271e-86fc-4023-9ed6-2a80982c9fde",
   "metadata": {},
   "outputs": [],
   "source": []
  },
  {
   "cell_type": "code",
   "execution_count": null,
   "id": "c2021915-9342-4dfc-b0ac-5ffc468e8717",
   "metadata": {},
   "outputs": [],
   "source": []
  },
  {
   "cell_type": "code",
   "execution_count": null,
   "id": "d72566ae-1219-4f0f-8451-6ceeef6f75b6",
   "metadata": {},
   "outputs": [],
   "source": []
  },
  {
   "cell_type": "code",
   "execution_count": null,
   "id": "c2771358-c849-4719-8cbb-5b6da1a38fd0",
   "metadata": {},
   "outputs": [],
   "source": []
  },
  {
   "cell_type": "code",
   "execution_count": null,
   "id": "ed3dbf61-48a4-4412-9fc6-4c1d8f34127c",
   "metadata": {},
   "outputs": [],
   "source": []
  },
  {
   "cell_type": "code",
   "execution_count": null,
   "id": "9819f0e4-f0a8-4d8c-b6f6-5186dc1255b0",
   "metadata": {},
   "outputs": [],
   "source": []
  },
  {
   "cell_type": "code",
   "execution_count": null,
   "id": "1ac25f6a-d69b-4134-a885-84e82205f16d",
   "metadata": {},
   "outputs": [],
   "source": []
  },
  {
   "cell_type": "code",
   "execution_count": null,
   "id": "816bebca-ed5f-42f6-8b73-08dcee1a4738",
   "metadata": {},
   "outputs": [],
   "source": []
  },
  {
   "cell_type": "code",
   "execution_count": null,
   "id": "e9b3815b-6f26-4152-a82b-1a1cab7042ee",
   "metadata": {},
   "outputs": [],
   "source": []
  }
 ],
 "metadata": {
  "kernelspec": {
   "display_name": "Python 3 (ipykernel)",
   "language": "python",
   "name": "python3"
  },
  "language_info": {
   "codemirror_mode": {
    "name": "ipython",
    "version": 3
   },
   "file_extension": ".py",
   "mimetype": "text/x-python",
   "name": "python",
   "nbconvert_exporter": "python",
   "pygments_lexer": "ipython3",
   "version": "3.10.8"
  }
 },
 "nbformat": 4,
 "nbformat_minor": 5
}
